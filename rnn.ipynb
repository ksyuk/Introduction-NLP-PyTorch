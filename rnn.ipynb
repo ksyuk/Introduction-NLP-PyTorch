{
 "cells": [
  {
   "cell_type": "code",
   "execution_count": null,
   "metadata": {},
   "outputs": [],
   "source": [
    "import torch\n",
    "\n",
    "from tensor import vocab, train_dataset, test_dataset, classes\n",
    "from bow import train_epoch\n",
    "from embedding import padify\n",
    "\n",
    "vocab_size = len(vocab)"
   ]
  },
  {
   "cell_type": "code",
   "execution_count": null,
   "metadata": {},
   "outputs": [],
   "source": [
    "device = torch.device(\"mps\" if torch.backends.mps.is_available() else \"cpu\")\n",
    "device = torch.device(\"cuda\" if torch.cuda.is_available() else device)"
   ]
  },
  {
   "cell_type": "code",
   "execution_count": null,
   "metadata": {},
   "outputs": [],
   "source": [
    "class RNNClassifier(torch.nn.Module):\n",
    "    def __init__(self, vocab_size, embed_dim, hidden_dim, num_class):\n",
    "        super().__init__()\n",
    "        self.hidden_dim = hidden_dim\n",
    "        self.embedding = torch.nn.Embedding(num_embeddings=vocab_size, embedding_dim=embed_dim)\n",
    "        self.rnn = torch.nn.RNN(input_size=embed_dim, hidden_size=hidden_dim, batch_first=True)\n",
    "        # fc: fully connected\n",
    "        self.fc = torch.nn.Linear(in_features=hidden_dim, out_features=num_class)\n",
    "\n",
    "    def forward(self, x):\n",
    "        x = self.embedding(x)\n",
    "        # x.shape: (batch_size(16), バッチ内の全体の文章の語彙数の最大値, embed_dim(64)))\n",
    "\n",
    "        x, h = self.rnn(x)\n",
    "        # x.shape: (16, バッチ内の全体の文章の語彙数の最大値, 32)\n",
    "\n",
    "        x_mean = x.mean(dim=1)\n",
    "        # x.shape: (16, 32)\n",
    "\n",
    "        out = self.fc(x_mean)\n",
    "        # out.shape: (16, 4)\n",
    "\n",
    "        return out\n",
    "\n",
    "train_loader = torch.utils.data.DataLoader(train_dataset, batch_size=16, collate_fn=padify, shuffle=True)\n",
    "network = RNNClassifier(vocab_size, embed_dim=64, hidden_dim=32, num_class=len(classes)).to(device)"
   ]
  },
  {
   "cell_type": "code",
   "execution_count": null,
   "metadata": {},
   "outputs": [],
   "source": [
    "train_epoch(network, train_loader, learning_rate=0.001, epoch_size=1000)"
   ]
  },
  {
   "cell_type": "code",
   "execution_count": null,
   "metadata": {},
   "outputs": [],
   "source": [
    "test_loader = torch.utils.data.DataLoader(test_dataset, batch_size=16, collate_fn=padify, shuffle=True)"
   ]
  },
  {
   "cell_type": "code",
   "execution_count": null,
   "metadata": {},
   "outputs": [],
   "source": [
    "network.eval()\n",
    "\n",
    "with torch.no_grad():\n",
    "    for batch_idx, (target, data) in enumerate(test_loader):\n",
    "        word_lookup = [vocab.itos[w] for w in data[batch_idx]]\n",
    "        unknow_vals = {'<unk>'}\n",
    "        word_lookup = [ele for ele in word_lookup if ele not in unknow_vals]\n",
    "        print(f'Input text:\\n {word_lookup}\\n')\n",
    "        \n",
    "        data, target = data.to(device), target.to(device)\n",
    "        pred = network(data)\n",
    "        print(torch.argmax(pred[batch_idx]))\n",
    "        print(f\"Actual:\\nvalue={target[batch_idx]}, class_name= {classes[target[batch_idx]]}\\n\")\n",
    "        print(f\"Predicted:\\nvalue={pred[0].argmax(0)}, class_name= {classes[pred[0].argmax(0)]}\\n\")\n",
    "        break"
   ]
  },
  {
   "cell_type": "code",
   "execution_count": null,
   "metadata": {},
   "outputs": [],
   "source": [
    "class LSTMClassifier(torch.nn.Module):\n",
    "    def __init__(self, vocab_size, embed_dim, hidden_dim, num_class):\n",
    "        super().__init__()\n",
    "        self.hidden_dim = hidden_dim\n",
    "        self.embedding = torch.nn.Embedding(vocab_size, embed_dim)\n",
    "        self.embedding.weight.data = torch.randn_like(self.embedding.weight.data) - 0.5\n",
    "        self.rnn = torch.nn.LSTM(embed_dim, hidden_dim, batch_first=True)\n",
    "        self.fc = torch.nn.Linear(hidden_dim, num_class)\n",
    "\n",
    "    def forward(self, x):\n",
    "        batch_size = x.size(0)\n",
    "        x = self.embedding(x)\n",
    "        x, (h,c) = self.rnn(x)\n",
    "        return self.fc(h[-1])\n",
    "\n",
    "network = LSTMClassifier(vocab_size,64,32,len(classes)).to(device)"
   ]
  },
  {
   "cell_type": "code",
   "execution_count": null,
   "metadata": {},
   "outputs": [],
   "source": [
    "train_epoch(network, train_loader, lr=0.001)"
   ]
  }
 ],
 "metadata": {
  "kernelspec": {
   "display_name": "venv",
   "language": "python",
   "name": "python3"
  },
  "language_info": {
   "codemirror_mode": {
    "name": "ipython",
    "version": 3
   },
   "file_extension": ".py",
   "mimetype": "text/x-python",
   "name": "python",
   "nbconvert_exporter": "python",
   "pygments_lexer": "ipython3",
   "version": "3.11.2"
  }
 },
 "nbformat": 4,
 "nbformat_minor": 2
}
