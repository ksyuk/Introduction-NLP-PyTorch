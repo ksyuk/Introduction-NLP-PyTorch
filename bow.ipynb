{
 "cells": [
  {
   "cell_type": "code",
   "execution_count": null,
   "metadata": {},
   "outputs": [],
   "source": [
    "import torch\n",
    "\n",
    "from tensor import train_dataset, test_dataset, encode, vocab\n",
    "vocab_size = len(vocab)"
   ]
  },
  {
   "cell_type": "code",
   "execution_count": null,
   "metadata": {},
   "outputs": [],
   "source": [
    "# 文章をBoWに変換\n",
    "# 文章中に出現する単語毎の出現回数をカウント\n",
    "def to_bow(text, bow_vocab_size=len(vocab)):\n",
    "    tensor = torch.zeros(bow_vocab_size, dtype=torch.float32)\n",
    "    for i in encode(text):\n",
    "        if i < bow_vocab_size:\n",
    "            tensor[i] += 1\n",
    "    return tensor\n",
    "\n",
    "# to_bow(first_sentence)\n",
    "# tensor([2., 1., 2.,  ..., 0., 0., 0.])"
   ]
  },
  {
   "cell_type": "code",
   "execution_count": null,
   "metadata": {},
   "outputs": [],
   "source": [
    "import time\n",
    "\n",
    "from torch.utils.data import DataLoader\n",
    "\n",
    "# this collate function gets list of batch_size tuples, and needs to \n",
    "# return a pair of label-feature tensors for the whole minibatch\n",
    "# データセット中の全ての文章をBoWに変\n",
    "def bowify(batch):\n",
    "    labels = []\n",
    "    features = []\n",
    "\n",
    "    start = time.time()\n",
    "    print(\"bowify start\")\n",
    "    for label, feature in batch:\n",
    "        labels.append(label-1)\n",
    "        features.append(to_bow(feature))\n",
    "    end = time.time()\n",
    "    print(\"time: \", end - start)\n",
    "    print(\"bowify end\")\n",
    "\n",
    "    return (\n",
    "        torch.LongTensor(labels),\n",
    "        torch.stack(features)\n",
    "    )\n",
    "\n",
    "# データセットをBoWに変換\n",
    "train_loader = DataLoader(train_dataset, batch_size=16, collate_fn=bowify, shuffle=True)\n",
    "test_loader = DataLoader(test_dataset, batch_size=16, collate_fn=bowify, shuffle=True)"
   ]
  },
  {
   "cell_type": "code",
   "execution_count": null,
   "metadata": {},
   "outputs": [],
   "source": [
    "# BoWを基にしたclassifierニューラルネットワーク\n",
    "# linear層だけを持ったニューラルネットワークを作成\n",
    "# 活性化関数にlogsoftmaxを使用\n",
    "network = torch.nn.Sequential(torch.nn.Linear(vocab_size, 4), torch.nn.LogSoftmax(dim=1))"
   ]
  },
  {
   "cell_type": "code",
   "execution_count": null,
   "metadata": {},
   "outputs": [],
   "source": [
    "def train_epoch(network, dataloader, learning_rate=0.01, optimizer=None, loss_fn=torch.nn.NLLLoss(), epoch_size=None, report_freq=200):\n",
    "    optimizer = optimizer or torch.optim.Adam(network.parameters(), lr=learning_rate)\n",
    "    # ネットワークにトレーニングすると伝える\n",
    "    network.train()\n",
    "\n",
    "    total_loss, accuracy, count, i = 0, 0, 0, 0\n",
    "    for labels, features in dataloader:\n",
    "        # labels: bowify返り値の0番目の要素\n",
    "        # features: bowify返り値の1番目の要素\n",
    "\n",
    "        optimizer.zero_grad()\n",
    "        out = network(features)\n",
    "        loss = loss_fn(out, labels) #cross_entropy(out,labels)\n",
    "\n",
    "        loss.backward()\n",
    "        optimizer.step()\n",
    "        total_loss += loss\n",
    "        _, predicted = torch.max(out, 1)\n",
    "        accuracy += (predicted==labels).sum()\n",
    "        count += len(labels)\n",
    "\n",
    "        i += 1\n",
    "        if i % report_freq == 0:\n",
    "            print(f\"{count}: accuracy={accuracy.item()/count}\")\n",
    "\n",
    "        if epoch_size and count > epoch_size:\n",
    "            print(epoch_size)\n",
    "            print(count)\n",
    "            break\n",
    "\n",
    "    return total_loss.item()/count, accuracy.item()/count"
   ]
  },
  {
   "cell_type": "code",
   "execution_count": null,
   "metadata": {},
   "outputs": [],
   "source": [
    "train_epoch(network, train_loader, epoch_size=2)"
   ]
  },
  {
   "cell_type": "code",
   "execution_count": null,
   "metadata": {},
   "outputs": [],
   "source": [
    "N = 10\n",
    "df = torch.zeros(vocab_size)\n",
    "for _, line in train_dataset[:N]:\n",
    "    for i in set(encode(line)):\n",
    "        df[i] += 1\n",
    "\n",
    "def crate_tf_idf(s):\n",
    "    bow = to_bow(s)\n",
    "    return bow * torch.log((N+1)/(df+1))\n",
    "\n",
    "# crate_tf_idf(first_sentence)\n",
    "# tensor([2.5986, 1.2993, 0.0000,  ..., 0.0000, 0.0000, 0.0000])"
   ]
  }
 ],
 "metadata": {
  "kernelspec": {
   "display_name": "venv",
   "language": "python",
   "name": "python3"
  },
  "language_info": {
   "codemirror_mode": {
    "name": "ipython",
    "version": 3
   },
   "file_extension": ".py",
   "mimetype": "text/x-python",
   "name": "python",
   "nbconvert_exporter": "python",
   "pygments_lexer": "ipython3",
   "version": "3.11.2"
  }
 },
 "nbformat": 4,
 "nbformat_minor": 2
}
